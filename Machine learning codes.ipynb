{
 "cells": [
  {
   "cell_type": "code",
   "execution_count": 1,
   "id": "0a29de93",
   "metadata": {},
   "outputs": [],
   "source": [
    "import pandas as pd\n",
    "import numpy as np\n",
    "import matplotlib.pyplot as plt\n",
    "import seaborn as sns\n",
    "\n",
    "\n",
    "from sklearn.model_selection import train_test_split\n",
    "from sklearn.linear_model import LogisticRegression  ##\n",
    "\n",
    "from sklearn import metrics\n",
    "from sklearn.metrics import confusion_matrix,classification_report,accuracy_score\n",
    "\n",
    "from sklearn.tree import DecisionTreeClassifier\n",
    "from sklearn.ensemble import RandomForestClassifier\n",
    "from sklearn import tree\n",
    "from warnings import filterwarnings\n",
    "filterwarnings(\"ignore\")"
   ]
  },
  {
   "cell_type": "markdown",
   "id": "ae148c0e",
   "metadata": {},
   "source": [
    "##  Analysing Dataset\n"
   ]
  },
  {
   "cell_type": "code",
   "execution_count": 2,
   "id": "13797574",
   "metadata": {},
   "outputs": [
    {
     "data": {
      "text/html": [
       "<div>\n",
       "<style scoped>\n",
       "    .dataframe tbody tr th:only-of-type {\n",
       "        vertical-align: middle;\n",
       "    }\n",
       "\n",
       "    .dataframe tbody tr th {\n",
       "        vertical-align: top;\n",
       "    }\n",
       "\n",
       "    .dataframe thead th {\n",
       "        text-align: right;\n",
       "    }\n",
       "</style>\n",
       "<table border=\"1\" class=\"dataframe\">\n",
       "  <thead>\n",
       "    <tr style=\"text-align: right;\">\n",
       "      <th></th>\n",
       "      <th>heart_rate</th>\n",
       "      <th>oxygen_rate</th>\n",
       "      <th>blood_pressure</th>\n",
       "      <th>target</th>\n",
       "    </tr>\n",
       "  </thead>\n",
       "  <tbody>\n",
       "    <tr>\n",
       "      <th>0</th>\n",
       "      <td>105</td>\n",
       "      <td>95</td>\n",
       "      <td>117</td>\n",
       "      <td>Normal</td>\n",
       "    </tr>\n",
       "    <tr>\n",
       "      <th>1</th>\n",
       "      <td>94</td>\n",
       "      <td>92</td>\n",
       "      <td>115</td>\n",
       "      <td>Normal</td>\n",
       "    </tr>\n",
       "    <tr>\n",
       "      <th>2</th>\n",
       "      <td>114</td>\n",
       "      <td>94</td>\n",
       "      <td>129</td>\n",
       "      <td>Normal</td>\n",
       "    </tr>\n",
       "    <tr>\n",
       "      <th>3</th>\n",
       "      <td>113</td>\n",
       "      <td>92</td>\n",
       "      <td>77</td>\n",
       "      <td>Normal</td>\n",
       "    </tr>\n",
       "    <tr>\n",
       "      <th>4</th>\n",
       "      <td>73</td>\n",
       "      <td>95</td>\n",
       "      <td>109</td>\n",
       "      <td>Normal</td>\n",
       "    </tr>\n",
       "  </tbody>\n",
       "</table>\n",
       "</div>"
      ],
      "text/plain": [
       "   heart_rate  oxygen_rate  blood_pressure  target\n",
       "0         105           95             117  Normal\n",
       "1          94           92             115  Normal\n",
       "2         114           94             129  Normal\n",
       "3         113           92              77  Normal\n",
       "4          73           95             109  Normal"
      ]
     },
     "execution_count": 2,
     "metadata": {},
     "output_type": "execute_result"
    }
   ],
   "source": [
    "df = pd.read_csv('final.csv',sep=',',encoding=\"utf-8\")\n",
    "df.head()"
   ]
  },
  {
   "cell_type": "code",
   "execution_count": 3,
   "id": "bbdaeb23",
   "metadata": {},
   "outputs": [
    {
     "name": "stdout",
     "output_type": "stream",
     "text": [
      "<class 'pandas.core.frame.DataFrame'>\n",
      "RangeIndex: 800 entries, 0 to 799\n",
      "Data columns (total 4 columns):\n",
      " #   Column          Non-Null Count  Dtype \n",
      "---  ------          --------------  ----- \n",
      " 0   heart_rate      800 non-null    int64 \n",
      " 1   oxygen_rate     800 non-null    int64 \n",
      " 2   blood_pressure  800 non-null    int64 \n",
      " 3   target          800 non-null    object\n",
      "dtypes: int64(3), object(1)\n",
      "memory usage: 25.1+ KB\n"
     ]
    }
   ],
   "source": [
    "df.info()"
   ]
  },
  {
   "cell_type": "code",
   "execution_count": 4,
   "id": "51982647",
   "metadata": {},
   "outputs": [
    {
     "data": {
      "text/html": [
       "<div>\n",
       "<style scoped>\n",
       "    .dataframe tbody tr th:only-of-type {\n",
       "        vertical-align: middle;\n",
       "    }\n",
       "\n",
       "    .dataframe tbody tr th {\n",
       "        vertical-align: top;\n",
       "    }\n",
       "\n",
       "    .dataframe thead th {\n",
       "        text-align: right;\n",
       "    }\n",
       "</style>\n",
       "<table border=\"1\" class=\"dataframe\">\n",
       "  <thead>\n",
       "    <tr style=\"text-align: right;\">\n",
       "      <th></th>\n",
       "      <th>heart_rate</th>\n",
       "      <th>oxygen_rate</th>\n",
       "      <th>blood_pressure</th>\n",
       "      <th>target</th>\n",
       "    </tr>\n",
       "  </thead>\n",
       "  <tbody>\n",
       "    <tr>\n",
       "      <th>0</th>\n",
       "      <td>105</td>\n",
       "      <td>95</td>\n",
       "      <td>117</td>\n",
       "      <td>Normal</td>\n",
       "    </tr>\n",
       "    <tr>\n",
       "      <th>1</th>\n",
       "      <td>94</td>\n",
       "      <td>92</td>\n",
       "      <td>115</td>\n",
       "      <td>Normal</td>\n",
       "    </tr>\n",
       "    <tr>\n",
       "      <th>2</th>\n",
       "      <td>114</td>\n",
       "      <td>94</td>\n",
       "      <td>129</td>\n",
       "      <td>Normal</td>\n",
       "    </tr>\n",
       "    <tr>\n",
       "      <th>3</th>\n",
       "      <td>113</td>\n",
       "      <td>92</td>\n",
       "      <td>77</td>\n",
       "      <td>Normal</td>\n",
       "    </tr>\n",
       "    <tr>\n",
       "      <th>4</th>\n",
       "      <td>73</td>\n",
       "      <td>95</td>\n",
       "      <td>109</td>\n",
       "      <td>Normal</td>\n",
       "    </tr>\n",
       "    <tr>\n",
       "      <th>...</th>\n",
       "      <td>...</td>\n",
       "      <td>...</td>\n",
       "      <td>...</td>\n",
       "      <td>...</td>\n",
       "    </tr>\n",
       "    <tr>\n",
       "      <th>795</th>\n",
       "      <td>52</td>\n",
       "      <td>90</td>\n",
       "      <td>51</td>\n",
       "      <td>Fright</td>\n",
       "    </tr>\n",
       "    <tr>\n",
       "      <th>796</th>\n",
       "      <td>48</td>\n",
       "      <td>61</td>\n",
       "      <td>69</td>\n",
       "      <td>Fright</td>\n",
       "    </tr>\n",
       "    <tr>\n",
       "      <th>797</th>\n",
       "      <td>45</td>\n",
       "      <td>73</td>\n",
       "      <td>56</td>\n",
       "      <td>Fright</td>\n",
       "    </tr>\n",
       "    <tr>\n",
       "      <th>798</th>\n",
       "      <td>49</td>\n",
       "      <td>85</td>\n",
       "      <td>51</td>\n",
       "      <td>Fright</td>\n",
       "    </tr>\n",
       "    <tr>\n",
       "      <th>799</th>\n",
       "      <td>52</td>\n",
       "      <td>88</td>\n",
       "      <td>61</td>\n",
       "      <td>Fright</td>\n",
       "    </tr>\n",
       "  </tbody>\n",
       "</table>\n",
       "<p>800 rows × 4 columns</p>\n",
       "</div>"
      ],
      "text/plain": [
       "     heart_rate  oxygen_rate  blood_pressure  target\n",
       "0           105           95             117  Normal\n",
       "1            94           92             115  Normal\n",
       "2           114           94             129  Normal\n",
       "3           113           92              77  Normal\n",
       "4            73           95             109  Normal\n",
       "..          ...          ...             ...     ...\n",
       "795          52           90              51  Fright\n",
       "796          48           61              69  Fright\n",
       "797          45           73              56  Fright\n",
       "798          49           85              51  Fright\n",
       "799          52           88              61  Fright\n",
       "\n",
       "[800 rows x 4 columns]"
      ]
     },
     "execution_count": 4,
     "metadata": {},
     "output_type": "execute_result"
    }
   ],
   "source": [
    "df"
   ]
  },
  {
   "cell_type": "code",
   "execution_count": 5,
   "id": "2f10e818",
   "metadata": {},
   "outputs": [
    {
     "data": {
      "text/plain": [
       "(800, 4)"
      ]
     },
     "execution_count": 5,
     "metadata": {},
     "output_type": "execute_result"
    }
   ],
   "source": [
    "df.shape"
   ]
  },
  {
   "cell_type": "code",
   "execution_count": 6,
   "id": "d0d6be47",
   "metadata": {},
   "outputs": [
    {
     "data": {
      "text/plain": [
       "heart_rate        0\n",
       "oxygen_rate       0\n",
       "blood_pressure    0\n",
       "target            0\n",
       "dtype: int64"
      ]
     },
     "execution_count": 6,
     "metadata": {},
     "output_type": "execute_result"
    }
   ],
   "source": [
    "df.isna().sum()"
   ]
  },
  {
   "cell_type": "code",
   "execution_count": 7,
   "id": "3b9b6c6f",
   "metadata": {},
   "outputs": [
    {
     "data": {
      "text/plain": [
       "heart_rate        121\n",
       "oxygen_rate        46\n",
       "blood_pressure    121\n",
       "target              3\n",
       "dtype: int64"
      ]
     },
     "execution_count": 7,
     "metadata": {},
     "output_type": "execute_result"
    }
   ],
   "source": [
    "df.apply(lambda x:len(x.unique()))\n"
   ]
  },
  {
   "cell_type": "code",
   "execution_count": 8,
   "id": "d1f4dfae",
   "metadata": {},
   "outputs": [
    {
     "name": "stdout",
     "output_type": "stream",
     "text": [
      "oxygen_rate  [ 95  92  94  91  90  93  97 100 104 103 101  96 105  98 102  99  82  76\n",
      "  72  78  61  60  85  89  88  71  84  66  75  62  87  64  65  80  83  70\n",
      "  81  74  79  73  86  69  68  77  63  67]\n",
      "heart_rate  [105  94 114 113  73  93  99  82  84 109  86 103 101 111 108  80  91 100\n",
      "  77  95  90  74  81  70 120 110  97  78 106  92 112  88 119  72 104 115\n",
      " 102  76  96 116  98 117 118  87  75  89  83 107  71  79  85 121 157 133\n",
      " 149 129 145 134 136 159 126 125 131 150 132 144 137 128 124 156 151 155\n",
      " 146 158 153 127 139 140 130  66  64  40  60  42  69  62  52  67  44  53\n",
      "  45  47  51  58  55  59  46  49  61  68  48  63  41  57  54 143 123 142\n",
      " 141 152 148 138 147 160 122  43  56  65  50 154 135]\n",
      "blood_pressure  [117 115 129  77 109  88  76 105 110 124  93 106  82 100  80 125 128 121\n",
      " 104 122  99 113  72 102 127 111 107 130  85 108  74 112  97 120 103  90\n",
      " 114  70  71 126  78 101  81  79  94  75  86  98 119 145 132 169 144 166\n",
      " 147 153 143 141 134 168 163 137 161 140 154 155 157 165 138 133 152 142\n",
      " 131 164 170 149 139 148 167  67  63  58  65  52  55  68  51  53  61  50\n",
      "  64  69  66  60  59  56  57  96  73  89  91 118 123  95  84 162 160 150\n",
      " 151 159 156  62  54  83  92  87 116 146 158 136 135]\n",
      "target  ['Normal' 'Fright' 'Suspect']\n"
     ]
    }
   ],
   "source": [
    "print('oxygen_rate ',df['oxygen_rate'].unique())\n",
    "print('heart_rate ',df['heart_rate'].unique())\n",
    "print('blood_pressure ',df['blood_pressure'].unique())\n",
    "print('target ',df['target'].unique())\n"
   ]
  },
  {
   "cell_type": "code",
   "execution_count": 9,
   "id": "3ee8f042-d5e2-4233-be26-921f34e86e2e",
   "metadata": {},
   "outputs": [
    {
     "data": {
      "text/plain": [
       "Index(['heart_rate', 'oxygen_rate', 'blood_pressure', 'target'], dtype='object')"
      ]
     },
     "execution_count": 9,
     "metadata": {},
     "output_type": "execute_result"
    }
   ],
   "source": [
    "df.columns"
   ]
  },
  {
   "cell_type": "code",
   "execution_count": 10,
   "id": "a9298c30",
   "metadata": {},
   "outputs": [
    {
     "data": {
      "text/plain": [
       "(array([ 87.,  73.,  86.,  87., 106.,  84.,  92.,  58.,  59.,  68.]),\n",
       " array([ 40.,  52.,  64.,  76.,  88., 100., 112., 124., 136., 148., 160.]),\n",
       " <BarContainer object of 10 artists>)"
      ]
     },
     "execution_count": 10,
     "metadata": {},
     "output_type": "execute_result"
    },
    {
     "data": {
      "image/png": "[encoded data removed]",
      "text/plain": [
       "<Figure size 640x480 with 1 Axes>"
      ]
     },
     "metadata": {},
     "output_type": "display_data"
    }
   ],
   "source": [
    "plt.hist(df['heart_rate'], bins=None, range=None, density=False)"
   ]
  },
  {
   "cell_type": "code",
   "execution_count": 11,
   "id": "193ae857",
   "metadata": {},
   "outputs": [
    {
     "data": {
      "text/plain": [
       "(array([ 27.,  22.,  40.,  23.,  31.,  26., 160., 272.,  99., 100.]),\n",
       " array([ 60. ,  64.5,  69. ,  73.5,  78. ,  82.5,  87. ,  91.5,  96. ,\n",
       "        100.5, 105. ]),\n",
       " <BarContainer object of 10 artists>)"
      ]
     },
     "execution_count": 11,
     "metadata": {},
     "output_type": "execute_result"
    },
    {
     "data": {
      "image/png": "[encoded data removed]",
      "text/plain": [
       "<Figure size 640x480 with 1 Axes>"
      ]
     },
     "metadata": {},
     "output_type": "display_data"
    }
   ],
   "source": [
    "plt.hist(df['oxygen_rate'], bins=None, range=None, density=False)"
   ]
  },
  {
   "cell_type": "code",
   "execution_count": 12,
   "id": "25c35485",
   "metadata": {},
   "outputs": [
    {
     "data": {
      "text/plain": [
       "Index(['heart_rate', 'oxygen_rate', 'blood_pressure', 'target'], dtype='object')"
      ]
     },
     "execution_count": 12,
     "metadata": {},
     "output_type": "execute_result"
    }
   ],
   "source": [
    "df.columns"
   ]
  },
  {
   "cell_type": "code",
   "execution_count": 13,
   "id": "592c291e",
   "metadata": {},
   "outputs": [
    {
     "data": {
      "image/png": "[encoded data removed]",
      "text/plain": [
       "<Figure size 2000x1000 with 1 Axes>"
      ]
     },
     "metadata": {},
     "output_type": "display_data"
    }
   ],
   "source": [
    "plt.figure(figsize=(20,10))\n",
    "sns.countplot(x=df['blood_pressure'],data=df,hue='target',palette=\"twilight_shifted\",saturation=2,dodge=True,)\n",
    "\n",
    "plt.savefig(\"Target&temp.png\")"
   ]
  },
  {
   "cell_type": "code",
   "execution_count": 14,
   "id": "039974e6",
   "metadata": {},
   "outputs": [
    {
     "data": {
      "image/png": "[encoded data removed]",
      "text/plain": [
       "<Figure size 2000x1500 with 2 Axes>"
      ]
     },
     "metadata": {},
     "output_type": "display_data"
    }
   ],
   "source": [
    "list = ['heart_rate', 'oxygen_rate']\n",
    "m=1\n",
    "plt.figure(figsize=(20,15))\n",
    "for i in list:\n",
    "    plt.subplot(3,3,m)\n",
    "    sns.countplot(x=i,data=df,hue='target',palette=\"twilight_shifted\",\n",
    "    saturation=2,dodge=True)\n",
    "    m+=1\n",
    "    \n",
    "plt.savefig(\"TargetRelation.png\")"
   ]
  },
  {
   "cell_type": "code",
   "execution_count": 15,
   "id": "59cbb67d",
   "metadata": {},
   "outputs": [
    {
     "data": {
      "image/png": "[encoded data removed]",
      "text/plain": [
       "<Figure size 900x400 with 1 Axes>"
      ]
     },
     "metadata": {},
     "output_type": "display_data"
    }
   ],
   "source": [
    "X = df.drop('target',axis=1)\n",
    "Y = df['target']\n",
    "from sklearn.feature_selection import SelectKBest, chi2\n",
    "fs = SelectKBest(score_func=chi2, k='all')\n",
    "fs.fit(X, Y)\n",
    "per = []\n",
    "for i in fs.scores_:\n",
    "    per.append(round(((i/sum(fs.scores_))*100),3))\n",
    "\n",
    "features_data = pd.DataFrame({'Feature':X.columns,'Scores':fs.scores_,'Importance (%)':per}).sort_values(by=['Scores'],ascending=False)\n",
    "\n",
    "plt.figure(figsize=(9,4))\n",
    "sns.barplot( x='Importance (%)',y='Feature',orient='h',data=features_data,palette='twilight_shifted_r')\n",
    "insignificant = features_data.loc[features_data['Importance (%)']<0.005]['Feature'].unique()\n",
    "features_data = features_data.set_index('Feature')\n",
    "features_data\n",
    "plt.savefig(\"FeatureImportance.png\")"
   ]
  },
  {
   "cell_type": "code",
   "execution_count": 16,
   "id": "288a03e0",
   "metadata": {},
   "outputs": [
    {
     "data": {
      "image/png": "[encoded data removed]",
      "text/plain": [
       "<Figure size 1500x1000 with 2 Axes>"
      ]
     },
     "metadata": {},
     "output_type": "display_data"
    }
   ],
   "source": [
    "plt.figure(figsize=(15,10))\n",
    "sns.heatmap(X.corr(),cbar = True, annot =True,cmap='twilight_shifted_r');\n",
    "plt.savefig(\"heatmap.png\")"
   ]
  },
  {
   "cell_type": "code",
   "execution_count": 17,
   "id": "3501ddd2",
   "metadata": {},
   "outputs": [
    {
     "data": {
      "text/plain": [
       "Index(['heart_rate', 'oxygen_rate', 'blood_pressure', 'target'], dtype='object')"
      ]
     },
     "execution_count": 17,
     "metadata": {},
     "output_type": "execute_result"
    }
   ],
   "source": [
    "df.columns\n"
   ]
  },
  {
   "cell_type": "code",
   "execution_count": 18,
   "id": "937ef1ed",
   "metadata": {},
   "outputs": [
    {
     "name": "stdout",
     "output_type": "stream",
     "text": [
      "<class 'pandas.core.frame.DataFrame'>\n",
      "RangeIndex: 800 entries, 0 to 799\n",
      "Data columns (total 4 columns):\n",
      " #   Column          Non-Null Count  Dtype \n",
      "---  ------          --------------  ----- \n",
      " 0   heart_rate      800 non-null    int64 \n",
      " 1   oxygen_rate     800 non-null    int64 \n",
      " 2   blood_pressure  800 non-null    int64 \n",
      " 3   target          800 non-null    object\n",
      "dtypes: int64(3), object(1)\n",
      "memory usage: 25.1+ KB\n"
     ]
    }
   ],
   "source": [
    "df.info()"
   ]
  },
  {
   "cell_type": "code",
   "execution_count": 19,
   "id": "7389190a",
   "metadata": {},
   "outputs": [
    {
     "data": {
      "text/html": [
       "<div>\n",
       "<style scoped>\n",
       "    .dataframe tbody tr th:only-of-type {\n",
       "        vertical-align: middle;\n",
       "    }\n",
       "\n",
       "    .dataframe tbody tr th {\n",
       "        vertical-align: top;\n",
       "    }\n",
       "\n",
       "    .dataframe thead th {\n",
       "        text-align: right;\n",
       "    }\n",
       "</style>\n",
       "<table border=\"1\" class=\"dataframe\">\n",
       "  <thead>\n",
       "    <tr style=\"text-align: right;\">\n",
       "      <th></th>\n",
       "      <th>heart_rate</th>\n",
       "      <th>oxygen_rate</th>\n",
       "      <th>blood_pressure</th>\n",
       "    </tr>\n",
       "  </thead>\n",
       "  <tbody>\n",
       "    <tr>\n",
       "      <th>count</th>\n",
       "      <td>800.000000</td>\n",
       "      <td>800.000000</td>\n",
       "      <td>800.000000</td>\n",
       "    </tr>\n",
       "    <tr>\n",
       "      <th>mean</th>\n",
       "      <td>96.447500</td>\n",
       "      <td>90.323750</td>\n",
       "      <td>102.795000</td>\n",
       "    </tr>\n",
       "    <tr>\n",
       "      <th>std</th>\n",
       "      <td>33.251494</td>\n",
       "      <td>10.327258</td>\n",
       "      <td>34.781355</td>\n",
       "    </tr>\n",
       "    <tr>\n",
       "      <th>min</th>\n",
       "      <td>40.000000</td>\n",
       "      <td>60.000000</td>\n",
       "      <td>50.000000</td>\n",
       "    </tr>\n",
       "    <tr>\n",
       "      <th>25%</th>\n",
       "      <td>69.750000</td>\n",
       "      <td>90.000000</td>\n",
       "      <td>70.000000</td>\n",
       "    </tr>\n",
       "    <tr>\n",
       "      <th>50%</th>\n",
       "      <td>95.000000</td>\n",
       "      <td>93.000000</td>\n",
       "      <td>101.000000</td>\n",
       "    </tr>\n",
       "    <tr>\n",
       "      <th>75%</th>\n",
       "      <td>120.000000</td>\n",
       "      <td>95.000000</td>\n",
       "      <td>130.000000</td>\n",
       "    </tr>\n",
       "    <tr>\n",
       "      <th>max</th>\n",
       "      <td>160.000000</td>\n",
       "      <td>105.000000</td>\n",
       "      <td>170.000000</td>\n",
       "    </tr>\n",
       "  </tbody>\n",
       "</table>\n",
       "</div>"
      ],
      "text/plain": [
       "       heart_rate  oxygen_rate  blood_pressure\n",
       "count  800.000000   800.000000      800.000000\n",
       "mean    96.447500    90.323750      102.795000\n",
       "std     33.251494    10.327258       34.781355\n",
       "min     40.000000    60.000000       50.000000\n",
       "25%     69.750000    90.000000       70.000000\n",
       "50%     95.000000    93.000000      101.000000\n",
       "75%    120.000000    95.000000      130.000000\n",
       "max    160.000000   105.000000      170.000000"
      ]
     },
     "execution_count": 19,
     "metadata": {},
     "output_type": "execute_result"
    }
   ],
   "source": [
    "df.describe()"
   ]
  },
  {
   "cell_type": "markdown",
   "id": "41f7559e",
   "metadata": {},
   "source": [
    "___________________________________\n",
    "\n",
    "# Modelling\n",
    "___________________________"
   ]
  },
  {
   "cell_type": "code",
   "execution_count": 20,
   "id": "14c4b1e2",
   "metadata": {},
   "outputs": [],
   "source": [
    "from sklearn.ensemble import RandomForestClassifier\n",
    "from sklearn import tree\n",
    "from sklearn.metrics import confusion_matrix,classification_report\n",
    "from mlxtend.plotting import plot_confusion_matrix\n",
    "from sklearn.model_selection import train_test_split\n"
   ]
  },
  {
   "cell_type": "code",
   "execution_count": 21,
   "id": "102b4b46",
   "metadata": {},
   "outputs": [],
   "source": [
    "X = df.drop('target',axis=1).values\n",
    "Y = df['target'].values"
   ]
  },
  {
   "cell_type": "code",
   "execution_count": 22,
   "id": "36f251e0",
   "metadata": {},
   "outputs": [
    {
     "data": {
      "text/html": [
       "<div>\n",
       "<style scoped>\n",
       "    .dataframe tbody tr th:only-of-type {\n",
       "        vertical-align: middle;\n",
       "    }\n",
       "\n",
       "    .dataframe tbody tr th {\n",
       "        vertical-align: top;\n",
       "    }\n",
       "\n",
       "    .dataframe thead th {\n",
       "        text-align: right;\n",
       "    }\n",
       "</style>\n",
       "<table border=\"1\" class=\"dataframe\">\n",
       "  <thead>\n",
       "    <tr style=\"text-align: right;\">\n",
       "      <th></th>\n",
       "      <th>heart_rate</th>\n",
       "      <th>oxygen_rate</th>\n",
       "      <th>blood_pressure</th>\n",
       "      <th>target</th>\n",
       "    </tr>\n",
       "  </thead>\n",
       "  <tbody>\n",
       "    <tr>\n",
       "      <th>0</th>\n",
       "      <td>105</td>\n",
       "      <td>95</td>\n",
       "      <td>117</td>\n",
       "      <td>Normal</td>\n",
       "    </tr>\n",
       "    <tr>\n",
       "      <th>1</th>\n",
       "      <td>94</td>\n",
       "      <td>92</td>\n",
       "      <td>115</td>\n",
       "      <td>Normal</td>\n",
       "    </tr>\n",
       "    <tr>\n",
       "      <th>2</th>\n",
       "      <td>114</td>\n",
       "      <td>94</td>\n",
       "      <td>129</td>\n",
       "      <td>Normal</td>\n",
       "    </tr>\n",
       "    <tr>\n",
       "      <th>3</th>\n",
       "      <td>113</td>\n",
       "      <td>92</td>\n",
       "      <td>77</td>\n",
       "      <td>Normal</td>\n",
       "    </tr>\n",
       "    <tr>\n",
       "      <th>4</th>\n",
       "      <td>73</td>\n",
       "      <td>95</td>\n",
       "      <td>109</td>\n",
       "      <td>Normal</td>\n",
       "    </tr>\n",
       "    <tr>\n",
       "      <th>...</th>\n",
       "      <td>...</td>\n",
       "      <td>...</td>\n",
       "      <td>...</td>\n",
       "      <td>...</td>\n",
       "    </tr>\n",
       "    <tr>\n",
       "      <th>795</th>\n",
       "      <td>52</td>\n",
       "      <td>90</td>\n",
       "      <td>51</td>\n",
       "      <td>Fright</td>\n",
       "    </tr>\n",
       "    <tr>\n",
       "      <th>796</th>\n",
       "      <td>48</td>\n",
       "      <td>61</td>\n",
       "      <td>69</td>\n",
       "      <td>Fright</td>\n",
       "    </tr>\n",
       "    <tr>\n",
       "      <th>797</th>\n",
       "      <td>45</td>\n",
       "      <td>73</td>\n",
       "      <td>56</td>\n",
       "      <td>Fright</td>\n",
       "    </tr>\n",
       "    <tr>\n",
       "      <th>798</th>\n",
       "      <td>49</td>\n",
       "      <td>85</td>\n",
       "      <td>51</td>\n",
       "      <td>Fright</td>\n",
       "    </tr>\n",
       "    <tr>\n",
       "      <th>799</th>\n",
       "      <td>52</td>\n",
       "      <td>88</td>\n",
       "      <td>61</td>\n",
       "      <td>Fright</td>\n",
       "    </tr>\n",
       "  </tbody>\n",
       "</table>\n",
       "<p>800 rows × 4 columns</p>\n",
       "</div>"
      ],
      "text/plain": [
       "     heart_rate  oxygen_rate  blood_pressure  target\n",
       "0           105           95             117  Normal\n",
       "1            94           92             115  Normal\n",
       "2           114           94             129  Normal\n",
       "3           113           92              77  Normal\n",
       "4            73           95             109  Normal\n",
       "..          ...          ...             ...     ...\n",
       "795          52           90              51  Fright\n",
       "796          48           61              69  Fright\n",
       "797          45           73              56  Fright\n",
       "798          49           85              51  Fright\n",
       "799          52           88              61  Fright\n",
       "\n",
       "[800 rows x 4 columns]"
      ]
     },
     "execution_count": 22,
     "metadata": {},
     "output_type": "execute_result"
    }
   ],
   "source": [
    "df"
   ]
  },
  {
   "cell_type": "code",
   "execution_count": 23,
   "id": "67144945",
   "metadata": {},
   "outputs": [
    {
     "data": {
      "text/plain": [
       "(800, 3)"
      ]
     },
     "execution_count": 23,
     "metadata": {},
     "output_type": "execute_result"
    }
   ],
   "source": [
    "X.shape"
   ]
  },
  {
   "cell_type": "code",
   "execution_count": 24,
   "id": "9c25934e",
   "metadata": {},
   "outputs": [
    {
     "data": {
      "text/plain": [
       "(800,)"
      ]
     },
     "execution_count": 24,
     "metadata": {},
     "output_type": "execute_result"
    }
   ],
   "source": [
    "Y.shape"
   ]
  },
  {
   "cell_type": "code",
   "execution_count": 25,
   "id": "581e4470",
   "metadata": {},
   "outputs": [],
   "source": [
    "# Split the dataset into training and testing.\n",
    "X_train, X_test, Y_train, Y_test = train_test_split(X, Y, test_size=0.2, random_state=0)"
   ]
  },
  {
   "cell_type": "code",
   "execution_count": 26,
   "id": "229875e6",
   "metadata": {},
   "outputs": [
    {
     "name": "stdout",
     "output_type": "stream",
     "text": [
      "(640, 3)\n",
      "(160, 3)\n",
      "(640,)\n",
      "(160,)\n"
     ]
    }
   ],
   "source": [
    "print(X_train.shape)\n",
    "print(X_test.shape)\n",
    "print(Y_train.shape)\n",
    "print(Y_test.shape)"
   ]
  },
  {
   "cell_type": "code",
   "execution_count": 27,
   "id": "4adadf6d",
   "metadata": {},
   "outputs": [
    {
     "data": {
      "text/html": [
       "<div>\n",
       "<style scoped>\n",
       "    .dataframe tbody tr th:only-of-type {\n",
       "        vertical-align: middle;\n",
       "    }\n",
       "\n",
       "    .dataframe tbody tr th {\n",
       "        vertical-align: top;\n",
       "    }\n",
       "\n",
       "    .dataframe thead th {\n",
       "        text-align: right;\n",
       "    }\n",
       "</style>\n",
       "<table border=\"1\" class=\"dataframe\">\n",
       "  <thead>\n",
       "    <tr style=\"text-align: right;\">\n",
       "      <th></th>\n",
       "      <th>heart_rate</th>\n",
       "      <th>oxygen_rate</th>\n",
       "      <th>blood_pressure</th>\n",
       "      <th>target</th>\n",
       "    </tr>\n",
       "  </thead>\n",
       "  <tbody>\n",
       "    <tr>\n",
       "      <th>0</th>\n",
       "      <td>105</td>\n",
       "      <td>95</td>\n",
       "      <td>117</td>\n",
       "      <td>Normal</td>\n",
       "    </tr>\n",
       "    <tr>\n",
       "      <th>1</th>\n",
       "      <td>94</td>\n",
       "      <td>92</td>\n",
       "      <td>115</td>\n",
       "      <td>Normal</td>\n",
       "    </tr>\n",
       "    <tr>\n",
       "      <th>2</th>\n",
       "      <td>114</td>\n",
       "      <td>94</td>\n",
       "      <td>129</td>\n",
       "      <td>Normal</td>\n",
       "    </tr>\n",
       "    <tr>\n",
       "      <th>3</th>\n",
       "      <td>113</td>\n",
       "      <td>92</td>\n",
       "      <td>77</td>\n",
       "      <td>Normal</td>\n",
       "    </tr>\n",
       "    <tr>\n",
       "      <th>4</th>\n",
       "      <td>73</td>\n",
       "      <td>95</td>\n",
       "      <td>109</td>\n",
       "      <td>Normal</td>\n",
       "    </tr>\n",
       "  </tbody>\n",
       "</table>\n",
       "</div>"
      ],
      "text/plain": [
       "   heart_rate  oxygen_rate  blood_pressure  target\n",
       "0         105           95             117  Normal\n",
       "1          94           92             115  Normal\n",
       "2         114           94             129  Normal\n",
       "3         113           92              77  Normal\n",
       "4          73           95             109  Normal"
      ]
     },
     "execution_count": 27,
     "metadata": {},
     "output_type": "execute_result"
    }
   ],
   "source": [
    "df.head()"
   ]
  },
  {
   "cell_type": "code",
   "execution_count": 28,
   "id": "e4e129dd",
   "metadata": {},
   "outputs": [
    {
     "data": {
      "text/html": [
       "<div>\n",
       "<style scoped>\n",
       "    .dataframe tbody tr th:only-of-type {\n",
       "        vertical-align: middle;\n",
       "    }\n",
       "\n",
       "    .dataframe tbody tr th {\n",
       "        vertical-align: top;\n",
       "    }\n",
       "\n",
       "    .dataframe thead th {\n",
       "        text-align: right;\n",
       "    }\n",
       "</style>\n",
       "<table border=\"1\" class=\"dataframe\">\n",
       "  <thead>\n",
       "    <tr style=\"text-align: right;\">\n",
       "      <th></th>\n",
       "      <th>heart_rate</th>\n",
       "      <th>oxygen_rate</th>\n",
       "      <th>blood_pressure</th>\n",
       "      <th>target</th>\n",
       "    </tr>\n",
       "  </thead>\n",
       "  <tbody>\n",
       "    <tr>\n",
       "      <th>795</th>\n",
       "      <td>52</td>\n",
       "      <td>90</td>\n",
       "      <td>51</td>\n",
       "      <td>Fright</td>\n",
       "    </tr>\n",
       "    <tr>\n",
       "      <th>796</th>\n",
       "      <td>48</td>\n",
       "      <td>61</td>\n",
       "      <td>69</td>\n",
       "      <td>Fright</td>\n",
       "    </tr>\n",
       "    <tr>\n",
       "      <th>797</th>\n",
       "      <td>45</td>\n",
       "      <td>73</td>\n",
       "      <td>56</td>\n",
       "      <td>Fright</td>\n",
       "    </tr>\n",
       "    <tr>\n",
       "      <th>798</th>\n",
       "      <td>49</td>\n",
       "      <td>85</td>\n",
       "      <td>51</td>\n",
       "      <td>Fright</td>\n",
       "    </tr>\n",
       "    <tr>\n",
       "      <th>799</th>\n",
       "      <td>52</td>\n",
       "      <td>88</td>\n",
       "      <td>61</td>\n",
       "      <td>Fright</td>\n",
       "    </tr>\n",
       "  </tbody>\n",
       "</table>\n",
       "</div>"
      ],
      "text/plain": [
       "     heart_rate  oxygen_rate  blood_pressure  target\n",
       "795          52           90              51  Fright\n",
       "796          48           61              69  Fright\n",
       "797          45           73              56  Fright\n",
       "798          49           85              51  Fright\n",
       "799          52           88              61  Fright"
      ]
     },
     "execution_count": 28,
     "metadata": {},
     "output_type": "execute_result"
    }
   ],
   "source": [
    "df.tail()\n"
   ]
  },
  {
   "cell_type": "markdown",
   "id": "83305c14",
   "metadata": {},
   "source": [
    "# LogisticRegression"
   ]
  },
  {
   "cell_type": "code",
   "execution_count": 29,
   "id": "b39d4a63",
   "metadata": {},
   "outputs": [
    {
     "name": "stdout",
     "output_type": "stream",
     "text": [
      "Logistic Regression Accuracy: 47.5 %\n"
     ]
    },
    {
     "data": {
      "image/png": "[encoded data removed]",
      "text/plain": [
       "<Figure size 640x480 with 2 Axes>"
      ]
     },
     "metadata": {},
     "output_type": "display_data"
    },
    {
     "name": "stdout",
     "output_type": "stream",
     "text": [
      "              precision    recall  f1-score   support\n",
      "\n",
      "      Fright       0.48      0.99      0.64        77\n",
      "      Normal       0.00      0.00      0.00        20\n",
      "     Suspect       0.00      0.00      0.00        63\n",
      "\n",
      "    accuracy                           0.48       160\n",
      "   macro avg       0.16      0.33      0.21       160\n",
      "weighted avg       0.23      0.47      0.31       160\n",
      "\n"
     ]
    }
   ],
   "source": [
    "from sklearn.linear_model import LogisticRegression\n",
    "from sklearn.metrics import accuracy_score, confusion_matrix, classification_report\n",
    "import seaborn as sns\n",
    "import matplotlib.pyplot as plt\n",
    "\n",
    "# Logistic Regression\n",
    "lr_model = LogisticRegression(solver='liblinear', max_iter=1000, random_state=31)\n",
    "lr_model.fit(X_train, Y_train)\n",
    "Y_pred_lr = lr_model.predict(X_test)\n",
    "score_lr = round(accuracy_score(Y_pred_lr, Y_test) * 100, 4)\n",
    "print(f\"Logistic Regression Accuracy: {score_lr} %\")\n",
    "\n",
    "# Confusion Matrix\n",
    "conf_mat = confusion_matrix(Y_test, Y_pred_lr)\n",
    "sns.heatmap(conf_mat, annot=True, fmt='d', cmap='copper_r', xticklabels=[\"0\", \"1\",\"2\"], yticklabels=[\"0\", \"1\",\"2\"])\n",
    "plt.title(\"Logistic Regression - Confusion Matrix\")\n",
    "plt.xlabel(\"Predicted\")\n",
    "plt.ylabel(\"Actual\")\n",
    "plt.show()\n",
    "\n",
    "# Classification Report\n",
    "print(classification_report(Y_test, Y_pred_lr))\n"
   ]
  },
  {
   "cell_type": "markdown",
   "id": "a014a7b4",
   "metadata": {},
   "source": [
    "# RandomForestClassifier"
   ]
  },
  {
   "cell_type": "code",
   "execution_count": 30,
   "id": "e42037cd",
   "metadata": {},
   "outputs": [
    {
     "name": "stdout",
     "output_type": "stream",
     "text": [
      "Random Forest Accuracy: 95.625 %\n"
     ]
    },
    {
     "data": {
      "image/png": "[encoded data removed]",
      "text/plain": [
       "<Figure size 640x480 with 2 Axes>"
      ]
     },
     "metadata": {},
     "output_type": "display_data"
    },
    {
     "name": "stdout",
     "output_type": "stream",
     "text": [
      "              precision    recall  f1-score   support\n",
      "\n",
      "      Fright       0.99      0.97      0.98        77\n",
      "      Normal       0.83      1.00      0.91        20\n",
      "     Suspect       0.97      0.92      0.94        63\n",
      "\n",
      "    accuracy                           0.96       160\n",
      "   macro avg       0.93      0.96      0.94       160\n",
      "weighted avg       0.96      0.96      0.96       160\n",
      "\n"
     ]
    }
   ],
   "source": [
    "from sklearn.ensemble import RandomForestClassifier\n",
    "\n",
    "# Random Forest\n",
    "rf_model = RandomForestClassifier(random_state=31)\n",
    "rf_model.fit(X_train, Y_train)\n",
    "Y_pred_rf = rf_model.predict(X_test)\n",
    "score_rf = round(accuracy_score(Y_pred_rf, Y_test) * 100, 4)\n",
    "print(f\"Random Forest Accuracy: {score_rf} %\")\n",
    "\n",
    "# Confusion Matrix\n",
    "conf_mat = confusion_matrix(Y_test, Y_pred_rf)\n",
    "sns.heatmap(conf_mat, annot=True, fmt='d', cmap='copper_r', xticklabels=[\"0\", \"1\",\"2\"], yticklabels=[\"0\", \"1\",\"2\"])\n",
    "plt.title(\"Random Forest - Confusion Matrix\")\n",
    "plt.xlabel(\"Predicted\")\n",
    "plt.ylabel(\"Actual\")\n",
    "plt.show()\n",
    "\n",
    "# Classification Report\n",
    "print(classification_report(Y_test, Y_pred_rf))\n",
    "\n",
    "import pickle\n",
    "with open('new3.pkl', 'wb') as file:\n",
    "   pickle.dump(rf_model,file)\n"
   ]
  },
  {
   "cell_type": "markdown",
   "id": "e19e1ece",
   "metadata": {},
   "source": [
    "# GradientBoostingClassifier"
   ]
  },
  {
   "cell_type": "code",
   "execution_count": 31,
   "id": "035bed3b",
   "metadata": {},
   "outputs": [
    {
     "name": "stdout",
     "output_type": "stream",
     "text": [
      "Gradient Boosting Accuracy: 96.25 %\n",
      "              precision    recall  f1-score   support\n",
      "\n",
      "      Fright       0.99      0.96      0.97        77\n",
      "      Normal       0.91      1.00      0.95        20\n",
      "     Suspect       0.95      0.95      0.95        63\n",
      "\n",
      "    accuracy                           0.96       160\n",
      "   macro avg       0.95      0.97      0.96       160\n",
      "weighted avg       0.96      0.96      0.96       160\n",
      "\n"
     ]
    }
   ],
   "source": [
    "from sklearn.ensemble import GradientBoostingClassifier\n",
    "\n",
    "# Gradient Boosting\n",
    "gb_model = GradientBoostingClassifier(random_state=31)\n",
    "gb_model.fit(X_train, Y_train)\n",
    "Y_pred_gb = gb_model.predict(X_test)\n",
    "score_gb = round(accuracy_score(Y_pred_gb, Y_test) * 100, 4)\n",
    "print(f\"Gradient Boosting Accuracy: {score_gb} %\")\n",
    "print(classification_report(Y_test, Y_pred_gb))\n"
   ]
  },
  {
   "cell_type": "code",
   "execution_count": 32,
   "id": "24a534f0-b19c-46db-8b9a-dba714ce5689",
   "metadata": {},
   "outputs": [
    {
     "data": {
      "image/png": "[encoded data removed]",
      "text/plain": [
       "<Figure size 640x480 with 2 Axes>"
      ]
     },
     "metadata": {},
     "output_type": "display_data"
    }
   ],
   "source": [
    "# Confusion Matrix\n",
    "conf_mat = confusion_matrix(Y_test, Y_pred_gb)\n",
    "sns.heatmap(conf_mat, annot=True, fmt='d', cmap='copper_r', xticklabels=[\"0\", \"1\",\"2\"], yticklabels=[\"0\", \"1\",\"2\"])\n",
    "plt.title(\"Logistic Regression - Confusion Matrix\")\n",
    "plt.xlabel(\"Predicted\")\n",
    "plt.ylabel(\"Actual\")\n",
    "plt.show()"
   ]
  },
  {
   "cell_type": "markdown",
   "id": "86d6fac4",
   "metadata": {},
   "source": [
    "# AdaBoostClassifier"
   ]
  },
  {
   "cell_type": "code",
   "execution_count": 33,
   "id": "a58759d0",
   "metadata": {},
   "outputs": [
    {
     "name": "stdout",
     "output_type": "stream",
     "text": [
      "AdaBoost Accuracy: 69.375 %\n",
      "              precision    recall  f1-score   support\n",
      "\n",
      "      Fright       1.00      0.47      0.64        77\n",
      "      Normal       0.71      1.00      0.83        20\n",
      "     Suspect       0.57      0.87      0.69        63\n",
      "\n",
      "    accuracy                           0.69       160\n",
      "   macro avg       0.76      0.78      0.72       160\n",
      "weighted avg       0.80      0.69      0.68       160\n",
      "\n"
     ]
    }
   ],
   "source": [
    "from sklearn.ensemble import AdaBoostClassifier\n",
    "\n",
    "# AdaBoost\n",
    "ab_model = AdaBoostClassifier(random_state=31)\n",
    "ab_model.fit(X_train, Y_train)\n",
    "Y_pred_ab = ab_model.predict(X_test)\n",
    "score_ab = round(accuracy_score(Y_pred_ab, Y_test) * 100, 4)\n",
    "print(f\"AdaBoost Accuracy: {score_ab} %\")\n",
    "print(classification_report(Y_test, Y_pred_ab))\n"
   ]
  },
  {
   "cell_type": "code",
   "execution_count": 34,
   "id": "275cada4-0a1f-4f40-8d40-d4d1464b5032",
   "metadata": {},
   "outputs": [
    {
     "data": {
      "image/png": "[encoded data removed]",
      "text/plain": [
       "<Figure size 640x480 with 2 Axes>"
      ]
     },
     "metadata": {},
     "output_type": "display_data"
    }
   ],
   "source": [
    "# Confusion Matrix\n",
    "conf_mat = confusion_matrix(Y_test, Y_pred_ab)\n",
    "sns.heatmap(conf_mat, annot=True, fmt='d', cmap='copper_r', xticklabels=[\"0\", \"1\",\"2\"], yticklabels=[\"0\", \"1\",\"2\"])\n",
    "plt.title(\"Logistic Regression - Confusion Matrix\")\n",
    "plt.xlabel(\"Predicted\")\n",
    "plt.ylabel(\"Actual\")\n",
    "plt.show()"
   ]
  },
  {
   "cell_type": "markdown",
   "id": "9cfaf268",
   "metadata": {},
   "source": [
    "# xgboost"
   ]
  },
  {
   "cell_type": "code",
   "execution_count": 35,
   "id": "f45df1f6",
   "metadata": {},
   "outputs": [
    {
     "name": "stdout",
     "output_type": "stream",
     "text": [
      "XGBoost Accuracy: 96.25 %\n",
      "              precision    recall  f1-score   support\n",
      "\n",
      "      Fright       0.99      0.96      0.97        77\n",
      "      Normal       0.91      1.00      0.95        20\n",
      "     Suspect       0.95      0.95      0.95        63\n",
      "\n",
      "    accuracy                           0.96       160\n",
      "   macro avg       0.95      0.97      0.96       160\n",
      "weighted avg       0.96      0.96      0.96       160\n",
      "\n"
     ]
    }
   ],
   "source": [
    "from sklearn.preprocessing import LabelEncoder\n",
    "from xgboost import XGBClassifier\n",
    "from sklearn.metrics import accuracy_score, classification_report\n",
    "\n",
    "# Encode target labels\n",
    "label_encoder = LabelEncoder()\n",
    "Y_train_encoded = label_encoder.fit_transform(Y_train)\n",
    "Y_test_encoded = label_encoder.transform(Y_test)\n",
    "\n",
    "# XGBoost\n",
    "xgb_model = XGBClassifier(use_label_encoder=False, eval_metric='logloss', random_state=31)\n",
    "xgb_model.fit(X_train, Y_train_encoded)\n",
    "Y_pred_xgb = xgb_model.predict(X_test)\n",
    "score_xgb = round(accuracy_score(Y_test_encoded, Y_pred_xgb) * 100, 4)\n",
    "\n",
    "print(f\"XGBoost Accuracy: {score_xgb} %\")\n",
    "print(classification_report(Y_test_encoded, Y_pred_xgb, target_names=label_encoder.classes_))\n"
   ]
  },
  {
   "cell_type": "code",
   "execution_count": 36,
   "id": "caad2c7e-d159-46cb-bcc0-b60d89eb0b7b",
   "metadata": {},
   "outputs": [
    {
     "data": {
      "image/png": "[encoded data removed]",
      "text/plain": [
       "<Figure size 800x600 with 2 Axes>"
      ]
     },
     "metadata": {},
     "output_type": "display_data"
    }
   ],
   "source": [
    "from sklearn.metrics import confusion_matrix\n",
    "import seaborn as sns\n",
    "import matplotlib.pyplot as plt\n",
    "\n",
    "# Compute the confusion matrix\n",
    "cm = confusion_matrix(Y_test_encoded, Y_pred_xgb)\n",
    "\n",
    "# Plot the confusion matrix using seaborn\n",
    "plt.figure(figsize=(8, 6))\n",
    "sns.heatmap(cm, annot=True, fmt='d', cmap='Blues', xticklabels=label_encoder.classes_, yticklabels=label_encoder.classes_)\n",
    "plt.title('Confusion Matrix')\n",
    "plt.xlabel('Predicted')\n",
    "plt.ylabel('Actual')\n",
    "plt.show()"
   ]
  },
  {
   "cell_type": "markdown",
   "id": "422eb7af",
   "metadata": {},
   "source": [
    "# CatBoostClassifier"
   ]
  },
  {
   "cell_type": "code",
   "execution_count": 37,
   "id": "5084a97e",
   "metadata": {},
   "outputs": [
    {
     "name": "stdout",
     "output_type": "stream",
     "text": [
      "CatBoost Accuracy: 96.875 %\n",
      "              precision    recall  f1-score   support\n",
      "\n",
      "      Fright       0.99      0.97      0.98        77\n",
      "      Normal       0.91      1.00      0.95        20\n",
      "     Suspect       0.97      0.95      0.96        63\n",
      "\n",
      "    accuracy                           0.97       160\n",
      "   macro avg       0.95      0.98      0.96       160\n",
      "weighted avg       0.97      0.97      0.97       160\n",
      "\n"
     ]
    }
   ],
   "source": [
    "from catboost import CatBoostClassifier\n",
    "\n",
    "# CatBoost\n",
    "cb_model = CatBoostClassifier(verbose=0, random_state=31)\n",
    "cb_model.fit(X_train, Y_train)\n",
    "Y_pred_cb = cb_model.predict(X_test)\n",
    "score_cb = round(accuracy_score(Y_pred_cb, Y_test) * 100, 4)\n",
    "print(f\"CatBoost Accuracy: {score_cb} %\")\n",
    "print(classification_report(Y_test, Y_pred_cb))\n"
   ]
  },
  {
   "cell_type": "code",
   "execution_count": 83,
   "id": "4ad722b6-e308-47f0-bac4-14e998c20d27",
   "metadata": {},
   "outputs": [
    {
     "data": {
      "image/png": "[encoded data removed]",
      "text/plain": [
       "<Figure size 2000x1000 with 2 Axes>"
      ]
     },
     "metadata": {},
     "output_type": "display_data"
    }
   ],
   "source": [
    "# Confusion Matrix\n",
    "conf_mat = confusion_matrix(Y_test, Y_pred_cb)\n",
    "sns.heatmap(conf_mat, annot=True, fmt='d', cmap='copper_r', xticklabels=[\"0\", \"1\"], yticklabels=[\"0\", \"1\"])\n",
    "plt.title(\"CatBoost - Confusion Matrix\")\n",
    "plt.xlabel(\"Predicted\")\n",
    "plt.ylabel(\"Actual\")\n",
    "plt.show()"
   ]
  },
  {
   "cell_type": "code",
   "execution_count": 39,
   "id": "052e9c33-d3dc-4d68-bb1b-fd2cf5d49fe0",
   "metadata": {},
   "outputs": [],
   "source": [
    "import pickle\n",
    "pickle.dump(cb_model,open(\"new.pkl\",\"wb\"))"
   ]
  },
  {
   "cell_type": "markdown",
   "id": "72b240a0",
   "metadata": {},
   "source": [
    "# Naive_bayes"
   ]
  },
  {
   "cell_type": "code",
   "execution_count": 40,
   "id": "7c5eaf86",
   "metadata": {},
   "outputs": [
    {
     "name": "stdout",
     "output_type": "stream",
     "text": [
      "Naive Bayes Accuracy: 70.625 %\n",
      "              precision    recall  f1-score   support\n",
      "\n",
      "      Fright       0.69      0.88      0.77        77\n",
      "      Normal       0.74      1.00      0.85        20\n",
      "     Suspect       0.74      0.40      0.52        63\n",
      "\n",
      "    accuracy                           0.71       160\n",
      "   macro avg       0.72      0.76      0.71       160\n",
      "weighted avg       0.71      0.71      0.68       160\n",
      "\n"
     ]
    }
   ],
   "source": [
    "from sklearn.naive_bayes import GaussianNB\n",
    "\n",
    "# Naive Bayes\n",
    "nb_model = GaussianNB()\n",
    "nb_model.fit(X_train, Y_train)\n",
    "Y_pred_nb = nb_model.predict(X_test)\n",
    "score_nb = round(accuracy_score(Y_pred_nb, Y_test) * 100, 4)\n",
    "print(f\"Naive Bayes Accuracy: {score_nb} %\")\n",
    "print(classification_report(Y_test, Y_pred_nb))\n"
   ]
  },
  {
   "cell_type": "code",
   "execution_count": 41,
   "id": "547f2d51-d7ff-4af4-a8ad-7e79f2c81669",
   "metadata": {},
   "outputs": [
    {
     "data": {
      "image/png": "[encoded data removed]",
      "text/plain": [
       "<Figure size 640x480 with 2 Axes>"
      ]
     },
     "metadata": {},
     "output_type": "display_data"
    }
   ],
   "source": [
    "# Confusion Matrix\n",
    "conf_mat = confusion_matrix(Y_test, Y_pred_nb)\n",
    "sns.heatmap(conf_mat, annot=True, fmt='d', cmap='copper_r', xticklabels=[\"0\", \"1\"], yticklabels=[\"0\", \"1\"])\n",
    "plt.title(\"Logistic Regression - Confusion Matrix\")\n",
    "plt.xlabel(\"Predicted\")\n",
    "plt.ylabel(\"Actual\")\n",
    "plt.show()"
   ]
  },
  {
   "cell_type": "markdown",
   "id": "ce7417e4",
   "metadata": {},
   "source": [
    "# SUPPORT VECTOR MACHINE"
   ]
  },
  {
   "cell_type": "code",
   "execution_count": 42,
   "id": "fe538b36",
   "metadata": {},
   "outputs": [
    {
     "name": "stdout",
     "output_type": "stream",
     "text": [
      "SVM Accuracy: 48.125 %\n",
      "              precision    recall  f1-score   support\n",
      "\n",
      "      Fright       0.48      1.00      0.65        77\n",
      "      Normal       0.00      0.00      0.00        20\n",
      "     Suspect       0.00      0.00      0.00        63\n",
      "\n",
      "    accuracy                           0.48       160\n",
      "   macro avg       0.16      0.33      0.22       160\n",
      "weighted avg       0.23      0.48      0.31       160\n",
      "\n"
     ]
    }
   ],
   "source": [
    "from sklearn.svm import SVC\n",
    "\n",
    "# SVM\n",
    "svm_model = SVC(kernel='linear', probability=True, random_state=31)\n",
    "svm_model.fit(X_train, Y_train)\n",
    "Y_pred_svm = svm_model.predict(X_test)\n",
    "score_svm = round(accuracy_score(Y_pred_svm, Y_test) * 100, 4)\n",
    "print(f\"SVM Accuracy: {score_svm} %\")\n",
    "print(classification_report(Y_test, Y_pred_svm))\n"
   ]
  },
  {
   "cell_type": "code",
   "execution_count": 43,
   "id": "c7de51a8-f02f-4eba-a703-f2f133ed8871",
   "metadata": {},
   "outputs": [
    {
     "data": {
      "image/png": "[encoded data removed]",
      "text/plain": [
       "<Figure size 640x480 with 2 Axes>"
      ]
     },
     "metadata": {},
     "output_type": "display_data"
    }
   ],
   "source": [
    "# Confusion Matrix\n",
    "conf_mat = confusion_matrix(Y_test, Y_pred_svm)\n",
    "sns.heatmap(conf_mat, annot=True, fmt='d', cmap='copper_r', xticklabels=[\"0\", \"1\"], yticklabels=[\"0\", \"1\"])\n",
    "plt.title(\"Logistic Regression - Confusion Matrix\")\n",
    "plt.xlabel(\"Predicted\")\n",
    "plt.ylabel(\"Actual\")\n",
    "plt.show()"
   ]
  },
  {
   "cell_type": "markdown",
   "id": "c10e6306",
   "metadata": {},
   "source": [
    "# KNeighborsClassifier"
   ]
  },
  {
   "cell_type": "code",
   "execution_count": 44,
   "id": "df246c97",
   "metadata": {},
   "outputs": [
    {
     "name": "stdout",
     "output_type": "stream",
     "text": [
      "KNN Accuracy: 81.875 %\n",
      "              precision    recall  f1-score   support\n",
      "\n",
      "      Fright       0.89      0.91      0.90        77\n",
      "      Normal       0.61      0.95      0.75        20\n",
      "     Suspect       0.84      0.67      0.74        63\n",
      "\n",
      "    accuracy                           0.82       160\n",
      "   macro avg       0.78      0.84      0.80       160\n",
      "weighted avg       0.83      0.82      0.82       160\n",
      "\n"
     ]
    }
   ],
   "source": [
    "from sklearn.neighbors import KNeighborsClassifier\n",
    "\n",
    "# KNN\n",
    "knn_model = KNeighborsClassifier(n_neighbors=5)\n",
    "knn_model.fit(X_train, Y_train)\n",
    "Y_pred_knn = knn_model.predict(X_test)\n",
    "score_knn = round(accuracy_score(Y_pred_knn, Y_test) * 100, 4)\n",
    "print(f\"KNN Accuracy: {score_knn} %\")\n",
    "print(classification_report(Y_test, Y_pred_knn))\n"
   ]
  },
  {
   "cell_type": "code",
   "execution_count": 45,
   "id": "08abc28d-e42f-473d-9f3a-fea665a99d45",
   "metadata": {},
   "outputs": [
    {
     "data": {
      "image/png": "[encoded data removed]",
      "text/plain": [
       "<Figure size 640x480 with 2 Axes>"
      ]
     },
     "metadata": {},
     "output_type": "display_data"
    }
   ],
   "source": [
    "# Confusion Matrix\n",
    "conf_mat = confusion_matrix(Y_test, Y_pred_knn)\n",
    "sns.heatmap(conf_mat, annot=True, fmt='d', cmap='copper_r', xticklabels=[\"0\", \"1\"], yticklabels=[\"0\", \"1\"])\n",
    "plt.title(\"Logistic Regression - Confusion Matrix\")\n",
    "plt.xlabel(\"Predicted\")\n",
    "plt.ylabel(\"Actual\")\n",
    "plt.show()"
   ]
  },
  {
   "cell_type": "markdown",
   "id": "d97f31d1",
   "metadata": {},
   "source": [
    "# COMPARISION"
   ]
  },
  {
   "cell_type": "code",
   "execution_count": 46,
   "id": "a35d89d6",
   "metadata": {},
   "outputs": [
    {
     "name": "stdout",
     "output_type": "stream",
     "text": [
      "The accuracy score achieved using Logistic Regression is: 47.5 %\n",
      "The accuracy score achieved using Gradient Boosting is: 96.25 %\n",
      "The accuracy score achieved using AdaBoost is: 69.375 %\n",
      "The accuracy score achieved using XGBoost is: 96.25 %\n",
      "The accuracy score achieved using CatBoost is: 96.875 %\n",
      "The accuracy score achieved using Naive Bayes is: 70.625 %\n",
      "The accuracy score achieved using SVM is: 48.125 %\n",
      "The accuracy score achieved using KNN is: 81.875 %\n",
      "The accuracy score achieved using Random Forest is: 95.625 %\n"
     ]
    },
    {
     "data": {
      "image/png": "[encoded data removed]",
      "text/plain": [
       "<Figure size 2000x1000 with 1 Axes>"
      ]
     },
     "metadata": {},
     "output_type": "display_data"
    }
   ],
   "source": [
    "import seaborn as sns\n",
    "import matplotlib.pyplot as plt\n",
    "\n",
    "# Collect scores and model names\n",
    "scores = [\n",
    "    score_lr,  # Logistic Regression\n",
    "    score_gb,  # Gradient Boosting\n",
    "    score_ab,  # AdaBoost\n",
    "    score_xgb, # XGBoost\n",
    "    score_cb,  # CatBoost\n",
    "    score_nb,  # Naive Bayes\n",
    "    score_svm, # SVM\n",
    "    score_knn, # KNN\n",
    "    score_rf   # Random Forest\n",
    "]\n",
    "\n",
    "Models = [\n",
    "    \"Logistic Regression\",\n",
    "    \"Gradient Boosting\",\n",
    "    \"AdaBoost\",\n",
    "    \"XGBoost\",\n",
    "    \"CatBoost\",\n",
    "    \"Naive Bayes\",\n",
    "    \"SVM\",\n",
    "    \"KNN\",\n",
    "    \"Random Forest\"\n",
    "]\n",
    "\n",
    "# Print accuracy for each model\n",
    "for i in range(len(Models)):\n",
    "    print(f\"The accuracy score achieved using {Models[i]} is: {scores[i]} %\")\n",
    "\n",
    "# Plot the bar chart\n",
    "sns.set(style=\"darkgrid\", rc={'figure.figsize': (20, 10)})\n",
    "plt.xlabel(\"Models\", loc='center')\n",
    "plt.ylabel(\"Accuracy Score\")\n",
    "sns.barplot(x=Models, y=scores, palette=\"viridis\")\n",
    "plt.title(\"Accuracy Comparison of Different Models\")\n",
    "plt.xticks(rotation=45)\n",
    "plt.savefig(\"Model_Accuracy_Comparison.png\")\n",
    "plt.show()\n"
   ]
  },
  {
   "cell_type": "code",
   "execution_count": 47,
   "id": "5920b03a-8495-4e43-8ace-f770af9ca684",
   "metadata": {},
   "outputs": [],
   "source": [
    "import pickle\n",
    "model=pickle.load(open(\"new.pkl\",\"rb\"))"
   ]
  },
  {
   "cell_type": "markdown",
   "id": "df2267ff-96df-4bcd-8abb-e91e067912df",
   "metadata": {},
   "source": [
    "## Fright"
   ]
  },
  {
   "cell_type": "code",
   "execution_count": 79,
   "id": "51d4fd7b",
   "metadata": {},
   "outputs": [
    {
     "name": "stdout",
     "output_type": "stream",
     "text": [
      "['Fright']\n"
     ]
    }
   ],
   "source": [
    "\n",
    "prediction = model.predict([[150,100,160]])[0]\n",
    "print(prediction)"
   ]
  },
  {
   "cell_type": "code",
   "execution_count": 49,
   "id": "42b18476-c243-49fc-b67d-1a4b7e25d410",
   "metadata": {},
   "outputs": [
    {
     "name": "stdout",
     "output_type": "stream",
     "text": [
      "['Fright']\n"
     ]
    }
   ],
   "source": [
    "prediction = model.predict([[99,98,155]])[0]\n",
    "print(prediction)"
   ]
  },
  {
   "cell_type": "code",
   "execution_count": 50,
   "id": "3bab4b45-7c14-421f-84f3-9902b03fcf6c",
   "metadata": {},
   "outputs": [
    {
     "name": "stdout",
     "output_type": "stream",
     "text": [
      "['Fright']\n"
     ]
    }
   ],
   "source": [
    "prediction = model.predict([[75,103,157]])[0]\n",
    "print(prediction)"
   ]
  },
  {
   "cell_type": "code",
   "execution_count": 51,
   "id": "a001db65",
   "metadata": {},
   "outputs": [
    {
     "name": "stdout",
     "output_type": "stream",
     "text": [
      "['Fright']\n"
     ]
    }
   ],
   "source": [
    "prediction = model.predict([[112,98,165]])[0]\n",
    "print(prediction)"
   ]
  },
  {
   "cell_type": "code",
   "execution_count": 52,
   "id": "c3814bad",
   "metadata": {},
   "outputs": [
    {
     "name": "stdout",
     "output_type": "stream",
     "text": [
      "['Fright']\n"
     ]
    }
   ],
   "source": [
    "prediction = model.predict([[101,98,138]])[0]\n",
    "print(prediction)"
   ]
  },
  {
   "cell_type": "code",
   "execution_count": 53,
   "id": "1ca8d3e8",
   "metadata": {},
   "outputs": [
    {
     "name": "stdout",
     "output_type": "stream",
     "text": [
      "['Fright']\n"
     ]
    }
   ],
   "source": [
    "prediction = model.predict([[74,98,165]])[0]\n",
    "print(prediction)"
   ]
  },
  {
   "cell_type": "code",
   "execution_count": 54,
   "id": "52d89fd2",
   "metadata": {},
   "outputs": [
    {
     "name": "stdout",
     "output_type": "stream",
     "text": [
      "['Fright']\n"
     ]
    }
   ],
   "source": [
    "prediction = model.predict([[97,105,133]])[0]\n",
    "print(prediction)"
   ]
  },
  {
   "cell_type": "code",
   "execution_count": 55,
   "id": "0ab2f623",
   "metadata": {},
   "outputs": [
    {
     "name": "stdout",
     "output_type": "stream",
     "text": [
      "['Fright']\n"
     ]
    }
   ],
   "source": [
    "prediction = model.predict([[83,99,131]])[0]\n",
    "print(prediction)"
   ]
  },
  {
   "cell_type": "code",
   "execution_count": 56,
   "id": "682119b4",
   "metadata": {},
   "outputs": [
    {
     "name": "stdout",
     "output_type": "stream",
     "text": [
      "['Fright']\n"
     ]
    }
   ],
   "source": [
    "prediction = model.predict([[73,102,147]])[0]\n",
    "print(prediction)"
   ]
  },
  {
   "cell_type": "code",
   "execution_count": 57,
   "id": "d7e26e42",
   "metadata": {},
   "outputs": [
    {
     "name": "stdout",
     "output_type": "stream",
     "text": [
      "['Fright']\n"
     ]
    }
   ],
   "source": [
    "prediction = model.predict([[107,104,149]])[0]\n",
    "print(prediction)"
   ]
  },
  {
   "cell_type": "markdown",
   "id": "bed524c4-8aae-4449-bde3-5867a0fb7b0f",
   "metadata": {},
   "source": [
    "## Suspect"
   ]
  },
  {
   "cell_type": "code",
   "execution_count": 82,
   "id": "da26a323",
   "metadata": {},
   "outputs": [
    {
     "name": "stdout",
     "output_type": "stream",
     "text": [
      "['Normal']\n"
     ]
    }
   ],
   "source": [
    "prediction = model.predict([[70,90,80]])[0]   # \n",
    "print(prediction)"
   ]
  },
  {
   "cell_type": "code",
   "execution_count": 59,
   "id": "fe1ffbac",
   "metadata": {},
   "outputs": [
    {
     "name": "stdout",
     "output_type": "stream",
     "text": [
      "['Suspect']\n"
     ]
    }
   ],
   "source": [
    "prediction = model.predict([[76,97,95]])[0]    # \n",
    "print(prediction)"
   ]
  },
  {
   "cell_type": "code",
   "execution_count": 60,
   "id": "55fb9a1d",
   "metadata": {},
   "outputs": [
    {
     "name": "stdout",
     "output_type": "stream",
     "text": [
      "['Suspect']\n"
     ]
    }
   ],
   "source": [
    "prediction = model.predict([[63,93,120]])[0]  # \n",
    "print(prediction)"
   ]
  },
  {
   "cell_type": "code",
   "execution_count": 61,
   "id": "1cadc132",
   "metadata": {},
   "outputs": [
    {
     "name": "stdout",
     "output_type": "stream",
     "text": [
      "['Suspect']\n"
     ]
    }
   ],
   "source": [
    "prediction = model.predict([[46,94,80]])[0]  #\n",
    "print(prediction)"
   ]
  },
  {
   "cell_type": "code",
   "execution_count": 62,
   "id": "d8637697",
   "metadata": {},
   "outputs": [
    {
     "name": "stdout",
     "output_type": "stream",
     "text": [
      "['Suspect']\n"
     ]
    }
   ],
   "source": [
    "prediction = model.predict([[62,90,124]])[0]  #\n",
    "print(prediction)"
   ]
  },
  {
   "cell_type": "code",
   "execution_count": 63,
   "id": "9465b8ea",
   "metadata": {},
   "outputs": [
    {
     "name": "stdout",
     "output_type": "stream",
     "text": [
      "['Suspect']\n"
     ]
    }
   ],
   "source": [
    "prediction = model.predict([[55,94,105]])[0]  #\n",
    "print(prediction)"
   ]
  },
  {
   "cell_type": "code",
   "execution_count": 64,
   "id": "c3c65ef1",
   "metadata": {},
   "outputs": [
    {
     "name": "stdout",
     "output_type": "stream",
     "text": [
      "['Suspect']\n"
     ]
    }
   ],
   "source": [
    "prediction = model.predict([[42,91,86]])[0] # \n",
    "print(prediction)"
   ]
  },
  {
   "cell_type": "code",
   "execution_count": 65,
   "id": "1d9a3e5f",
   "metadata": {},
   "outputs": [
    {
     "name": "stdout",
     "output_type": "stream",
     "text": [
      "['Suspect']\n"
     ]
    }
   ],
   "source": [
    "prediction = model.predict([[51,93,81]])[0]  \n",
    "print(prediction)"
   ]
  },
  {
   "cell_type": "code",
   "execution_count": 66,
   "id": "fa161cee",
   "metadata": {},
   "outputs": [
    {
     "name": "stdout",
     "output_type": "stream",
     "text": [
      "['Suspect']\n"
     ]
    }
   ],
   "source": [
    "prediction = model.predict([[57,90,129]])[0]\n",
    "print(prediction)"
   ]
  },
  {
   "cell_type": "code",
   "execution_count": 67,
   "id": "f8f39daf",
   "metadata": {},
   "outputs": [
    {
     "name": "stdout",
     "output_type": "stream",
     "text": [
      "['Fright']\n"
     ]
    }
   ],
   "source": [
    "prediction = model.predict([[63,69,100]])[0]\n",
    "print(prediction)"
   ]
  },
  {
   "cell_type": "code",
   "execution_count": 68,
   "id": "28715958-7e96-4e58-887a-626e1d078c3e",
   "metadata": {},
   "outputs": [],
   "source": [
    "##Normal\n"
   ]
  },
  {
   "cell_type": "code",
   "execution_count": 69,
   "id": "a5283f3f-0a86-47fd-9a43-ffcb7d2e898b",
   "metadata": {},
   "outputs": [
    {
     "name": "stdout",
     "output_type": "stream",
     "text": [
      "['Fright']\n"
     ]
    }
   ],
   "source": [
    "prediction = model.predict([[63,69,100]])[0]\n",
    "print(prediction)"
   ]
  },
  {
   "cell_type": "code",
   "execution_count": 70,
   "id": "db5c574c-fe12-4353-b181-764b1bc7b34e",
   "metadata": {},
   "outputs": [
    {
     "name": "stdout",
     "output_type": "stream",
     "text": [
      "['Fright']\n"
     ]
    }
   ],
   "source": [
    "prediction = model.predict([[63,69,100]])[0]\n",
    "print(prediction)"
   ]
  },
  {
   "cell_type": "code",
   "execution_count": 71,
   "id": "0f3289bc-9c58-49fe-91b0-285e2a74c68c",
   "metadata": {},
   "outputs": [
    {
     "name": "stdout",
     "output_type": "stream",
     "text": [
      "['Fright']\n"
     ]
    }
   ],
   "source": [
    "prediction = model.predict([[63,69,100]])[0]\n",
    "print(prediction)"
   ]
  },
  {
   "cell_type": "code",
   "execution_count": 72,
   "id": "755e1afd-2fd1-4c2b-b1d3-85996795452f",
   "metadata": {},
   "outputs": [
    {
     "name": "stdout",
     "output_type": "stream",
     "text": [
      "['Fright']\n"
     ]
    }
   ],
   "source": [
    "prediction = model.predict([[63,69,100]])[0]\n",
    "print(prediction)"
   ]
  },
  {
   "cell_type": "code",
   "execution_count": 73,
   "id": "b999fa15-7e7b-407d-bbed-16aad638acca",
   "metadata": {},
   "outputs": [
    {
     "name": "stdout",
     "output_type": "stream",
     "text": [
      "['Fright']\n"
     ]
    }
   ],
   "source": [
    "prediction = model.predict([[63,69,100]])[0]\n",
    "print(prediction)"
   ]
  },
  {
   "cell_type": "code",
   "execution_count": 74,
   "id": "02db327c-af24-49ac-b0da-1e992a9a13cc",
   "metadata": {},
   "outputs": [
    {
     "name": "stdout",
     "output_type": "stream",
     "text": [
      "['Fright']\n"
     ]
    }
   ],
   "source": [
    "prediction = model.predict([[63,69,100]])[0]\n",
    "print(prediction)"
   ]
  },
  {
   "cell_type": "code",
   "execution_count": 75,
   "id": "835b738e-cfb0-4484-bc2d-692c08b1c698",
   "metadata": {},
   "outputs": [
    {
     "name": "stdout",
     "output_type": "stream",
     "text": [
      "['Fright']\n"
     ]
    }
   ],
   "source": [
    "prediction = model.predict([[63,69,100]])[0]\n",
    "print(prediction)"
   ]
  },
  {
   "cell_type": "code",
   "execution_count": 76,
   "id": "c48fcc76-71c2-4157-b813-e44ce7216041",
   "metadata": {},
   "outputs": [
    {
     "name": "stdout",
     "output_type": "stream",
     "text": [
      "['Fright']\n"
     ]
    }
   ],
   "source": [
    "prediction = model.predict([[63,69,100]])[0]\n",
    "print(prediction)"
   ]
  },
  {
   "cell_type": "code",
   "execution_count": 77,
   "id": "8d08c9aa-4c55-475a-a847-add30888cd57",
   "metadata": {},
   "outputs": [
    {
     "name": "stdout",
     "output_type": "stream",
     "text": [
      "['Fright']\n"
     ]
    }
   ],
   "source": [
    "prediction = model.predict([[63,69,100]])[0]\n",
    "print(prediction)"
   ]
  },
  {
   "cell_type": "code",
   "execution_count": 78,
   "id": "07860afb-6ae9-4f6b-9426-b12a4d71da74",
   "metadata": {},
   "outputs": [
    {
     "name": "stdout",
     "output_type": "stream",
     "text": [
      "['Fright']\n"
     ]
    }
   ],
   "source": [
    "prediction = model.predict([[63,69,100]])[0]\n",
    "print(prediction)"
   ]
  }
 ],
 "metadata": {
  "kernelspec": {
   "display_name": "Python 3 (ipykernel)",
   "language": "python",
   "name": "python3"
  },
  "language_info": {
   "codemirror_mode": {
    "name": "ipython",
    "version": 3
   },
   "file_extension": ".py",
   "mimetype": "text/x-python",
   "name": "python",
   "nbconvert_exporter": "python",
   "pygments_lexer": "ipython3",
   "version": "3.9.0"
  }
 },
 "nbformat": 4,
 "nbformat_minor": 5
}
